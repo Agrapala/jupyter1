{
 "cells": [
  {
   "cell_type": "code",
   "execution_count": 2,
   "id": "d0cc3a14-2cee-4c55-ac41-af9eda9996af",
   "metadata": {},
   "outputs": [],
   "source": [
    "import numpy as np\n"
   ]
  },
  {
   "cell_type": "code",
   "execution_count": 3,
   "id": "683b4f16-12b1-45c0-82d7-d129afd1a8f6",
   "metadata": {},
   "outputs": [],
   "source": [
    "np1 = np.array([1,2,3,4])"
   ]
  },
  {
   "cell_type": "code",
   "execution_count": 4,
   "id": "d6cbe77d-8e7b-4a42-a77c-1623a0dba80f",
   "metadata": {},
   "outputs": [
    {
     "data": {
      "text/plain": [
       "array([1, 2, 3, 4])"
      ]
     },
     "execution_count": 4,
     "metadata": {},
     "output_type": "execute_result"
    }
   ],
   "source": [
    "np1"
   ]
  },
  {
   "cell_type": "code",
   "execution_count": 5,
   "id": "40375516-bdfb-48b0-949e-9ec523f9ac3f",
   "metadata": {},
   "outputs": [
    {
     "data": {
      "text/plain": [
       "numpy.ndarray"
      ]
     },
     "execution_count": 5,
     "metadata": {},
     "output_type": "execute_result"
    }
   ],
   "source": [
    "type(np1)\n"
   ]
  },
  {
   "cell_type": "code",
   "execution_count": 7,
   "id": "af8980e3-ac4d-4ce6-a9cc-a0aeb99a8d79",
   "metadata": {},
   "outputs": [],
   "source": [
    "mat1=np.array([[1,2],[3,4]])"
   ]
  },
  {
   "cell_type": "code",
   "execution_count": 8,
   "id": "d31d1d62-8956-461e-84d8-fbb09c32dfc3",
   "metadata": {},
   "outputs": [
    {
     "data": {
      "text/plain": [
       "array([[1, 2],\n",
       "       [3, 4]])"
      ]
     },
     "execution_count": 8,
     "metadata": {},
     "output_type": "execute_result"
    }
   ],
   "source": [
    "mat1"
   ]
  },
  {
   "cell_type": "code",
   "execution_count": 9,
   "id": "dc1d371a-a784-4145-a6e8-b379e159a8b4",
   "metadata": {},
   "outputs": [
    {
     "data": {
      "text/plain": [
       "numpy.ndarray"
      ]
     },
     "execution_count": 9,
     "metadata": {},
     "output_type": "execute_result"
    }
   ],
   "source": [
    "type(mat1)\n"
   ]
  },
  {
   "cell_type": "code",
   "execution_count": 10,
   "id": "9637f586-9bd0-4fd1-b88b-302c305b2364",
   "metadata": {},
   "outputs": [
    {
     "data": {
      "text/plain": [
       "(2, 2)"
      ]
     },
     "execution_count": 10,
     "metadata": {},
     "output_type": "execute_result"
    }
   ],
   "source": [
    "np1.shape\n",
    "mat1.shape"
   ]
  },
  {
   "cell_type": "code",
   "execution_count": 11,
   "id": "f2f9ffec-7b4c-4721-9a67-1e307519887e",
   "metadata": {},
   "outputs": [
    {
     "data": {
      "text/plain": [
       "(4,)"
      ]
     },
     "execution_count": 11,
     "metadata": {},
     "output_type": "execute_result"
    }
   ],
   "source": [
    "np1.shape"
   ]
  },
  {
   "cell_type": "code",
   "execution_count": 12,
   "id": "d073c47b-57a9-4a8f-87c3-f0b30b776a7a",
   "metadata": {},
   "outputs": [],
   "source": [
    "mat1[0,0]=5"
   ]
  },
  {
   "cell_type": "code",
   "execution_count": 13,
   "id": "a24e6a8a-f16f-4858-b646-e9884c65079e",
   "metadata": {},
   "outputs": [
    {
     "data": {
      "text/plain": [
       "array([[5, 2],\n",
       "       [3, 4]])"
      ]
     },
     "execution_count": 13,
     "metadata": {},
     "output_type": "execute_result"
    }
   ],
   "source": [
    "mat1"
   ]
  },
  {
   "cell_type": "code",
   "execution_count": 15,
   "id": "f3dadbbb-e0ae-4289-8333-fde2ff25c742",
   "metadata": {},
   "outputs": [],
   "source": [
    "mat2=np.arange(0,10,1)"
   ]
  },
  {
   "cell_type": "code",
   "execution_count": 16,
   "id": "d5b6c1ba-f3a6-435d-b596-9dbae9fdad66",
   "metadata": {},
   "outputs": [],
   "source": [
    "mat3=np.linspace(0,10,20)"
   ]
  },
  {
   "cell_type": "code",
   "execution_count": 17,
   "id": "5a3b2f2a-da79-45bc-9760-34f93ccd9765",
   "metadata": {},
   "outputs": [
    {
     "data": {
      "text/plain": [
       "array([0, 1, 2, 3, 4, 5, 6, 7, 8, 9])"
      ]
     },
     "execution_count": 17,
     "metadata": {},
     "output_type": "execute_result"
    }
   ],
   "source": [
    "mat2"
   ]
  },
  {
   "cell_type": "code",
   "execution_count": 18,
   "id": "c57b9838-4f19-4ce8-94cd-0ed24c9d2b80",
   "metadata": {},
   "outputs": [
    {
     "data": {
      "text/plain": [
       "array([ 0.        ,  0.52631579,  1.05263158,  1.57894737,  2.10526316,\n",
       "        2.63157895,  3.15789474,  3.68421053,  4.21052632,  4.73684211,\n",
       "        5.26315789,  5.78947368,  6.31578947,  6.84210526,  7.36842105,\n",
       "        7.89473684,  8.42105263,  8.94736842,  9.47368421, 10.        ])"
      ]
     },
     "execution_count": 18,
     "metadata": {},
     "output_type": "execute_result"
    }
   ],
   "source": [
    "mat3"
   ]
  },
  {
   "cell_type": "code",
   "execution_count": 12,
   "id": "b623ae4e-b3da-40ce-b599-9aee7284d958",
   "metadata": {},
   "outputs": [],
   "source": [
    "import pandas as pd"
   ]
  },
  {
   "cell_type": "code",
   "execution_count": 1,
   "id": "9c4a7909-5ba8-45ce-967e-fce6a480ff11",
   "metadata": {},
   "outputs": [],
   "source": [
    "import seaborn as sns\n",
    "\n"
   ]
  },
  {
   "cell_type": "code",
   "execution_count": null,
   "id": "7c31b56c-1b95-4b80-86c6-ce4f903525cb",
   "metadata": {},
   "outputs": [],
   "source": []
  }
 ],
 "metadata": {
  "kernelspec": {
   "display_name": "Python 3 (ipykernel)",
   "language": "python",
   "name": "python3"
  },
  "language_info": {
   "codemirror_mode": {
    "name": "ipython",
    "version": 3
   },
   "file_extension": ".py",
   "mimetype": "text/x-python",
   "name": "python",
   "nbconvert_exporter": "python",
   "pygments_lexer": "ipython3",
   "version": "3.12.1"
  }
 },
 "nbformat": 4,
 "nbformat_minor": 5
}
