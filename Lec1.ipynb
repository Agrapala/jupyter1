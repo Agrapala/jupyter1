{
 "cells": [
  {
   "cell_type": "code",
   "execution_count": 2,
   "id": "45fb6f60-f286-40af-848c-f38913a4a2ad",
   "metadata": {},
   "outputs": [
    {
     "data": {
      "text/plain": [
       "4"
      ]
     },
     "execution_count": 2,
     "metadata": {},
     "output_type": "execute_result"
    }
   ],
   "source": [
    "2+2\n"
   ]
  },
  {
   "cell_type": "markdown",
   "id": "cc90a1cd-6e1c-455d-b7fc-384232d6340c",
   "metadata": {},
   "source": [
    "var1 = 6+5+8-9"
   ]
  },
  {
   "cell_type": "code",
   "execution_count": 11,
   "id": "02a7b5a4-984a-4a77-93e7-965e6cb5eb3b",
   "metadata": {},
   "outputs": [
    {
     "data": {
      "text/plain": [
       "6"
      ]
     },
     "execution_count": 11,
     "metadata": {},
     "output_type": "execute_result"
    }
   ],
   "source": [
    "var1"
   ]
  },
  {
   "cell_type": "code",
   "execution_count": 13,
   "id": "6cc25e38-d0a2-43a0-a85e-076d259cde6c",
   "metadata": {},
   "outputs": [],
   "source": [
    "var2 = \"samitha\" "
   ]
  },
  {
   "cell_type": "code",
   "execution_count": 14,
   "id": "c735f4b3-6665-4ced-866d-cb9a463aab74",
   "metadata": {},
   "outputs": [
    {
     "name": "stdout",
     "output_type": "stream",
     "text": [
      "samitha\n"
     ]
    }
   ],
   "source": [
    "print(var2)"
   ]
  },
  {
   "cell_type": "code",
   "execution_count": 21,
   "id": "4f83e178-2dfe-494a-a837-a632ecfaec12",
   "metadata": {},
   "outputs": [
    {
     "name": "stdout",
     "output_type": "stream",
     "text": [
      "i am hasitha , Who are u?\n"
     ]
    }
   ],
   "source": [
    "str1=print(\"i am {} , Who are u?\".format(var2))"
   ]
  },
  {
   "cell_type": "code",
   "execution_count": 18,
   "id": "22c0c620-e827-4156-85c2-ef2fe1428cc1",
   "metadata": {},
   "outputs": [],
   "source": [
    "var2=\"hasitha\""
   ]
  },
  {
   "cell_type": "code",
   "execution_count": 20,
   "id": "4a42f524-c1f2-41b4-87bd-e6b39b78011b",
   "metadata": {},
   "outputs": [
    {
     "data": {
      "text/plain": [
       "7"
      ]
     },
     "execution_count": 20,
     "metadata": {},
     "output_type": "execute_result"
    }
   ],
   "source": [
    "len(var2)"
   ]
  },
  {
   "cell_type": "code",
   "execution_count": 27,
   "id": "093cb768-d7ff-4de0-8553-380bde2ba251",
   "metadata": {},
   "outputs": [],
   "source": [
    "li = [1,2,3,4,5]"
   ]
  },
  {
   "cell_type": "code",
   "execution_count": 28,
   "id": "bf5e1da9-6235-4e62-bcde-1c15f0a99283",
   "metadata": {},
   "outputs": [
    {
     "data": {
      "text/plain": [
       "list"
      ]
     },
     "execution_count": 28,
     "metadata": {},
     "output_type": "execute_result"
    }
   ],
   "source": [
    "type(li)"
   ]
  },
  {
   "cell_type": "code",
   "execution_count": 29,
   "id": "dd41a4b2-492c-44a7-8854-6066005bda10",
   "metadata": {},
   "outputs": [
    {
     "data": {
      "text/plain": [
       "1"
      ]
     },
     "execution_count": 29,
     "metadata": {},
     "output_type": "execute_result"
    }
   ],
   "source": [
    "li[0]"
   ]
  },
  {
   "cell_type": "code",
   "execution_count": 30,
   "id": "03fbd4fc-518d-4e5c-920e-a5ae179237ab",
   "metadata": {},
   "outputs": [],
   "source": [
    "li2=[1,\"a\",1.5]"
   ]
  },
  {
   "cell_type": "code",
   "execution_count": 31,
   "id": "0bcf4d17-80c1-4433-b887-656bd9975cac",
   "metadata": {},
   "outputs": [
    {
     "data": {
      "text/plain": [
       "list"
      ]
     },
     "execution_count": 31,
     "metadata": {},
     "output_type": "execute_result"
    }
   ],
   "source": [
    "type(li2)"
   ]
  },
  {
   "cell_type": "code",
   "execution_count": 32,
   "id": "20ede62a-4b01-44de-bcde-2208e239e216",
   "metadata": {},
   "outputs": [
    {
     "data": {
      "text/plain": [
       "float"
      ]
     },
     "execution_count": 32,
     "metadata": {},
     "output_type": "execute_result"
    }
   ],
   "source": [
    "type(li2[2])"
   ]
  },
  {
   "cell_type": "code",
   "execution_count": 38,
   "id": "acf95105-8010-4439-9f1d-c558f9049ff3",
   "metadata": {},
   "outputs": [],
   "source": [
    "l4 = list(range(10))"
   ]
  },
  {
   "cell_type": "markdown",
   "id": "322e35d2-8203-4c10-b205-d299099bdd31",
   "metadata": {},
   "source": [
    "l4\n"
   ]
  },
  {
   "cell_type": "code",
   "execution_count": 39,
   "id": "e9225ba9-8096-44d2-a5bb-0be798e80ec2",
   "metadata": {},
   "outputs": [
    {
     "data": {
      "text/plain": [
       "[0, 1, 2, 3, 4, 5, 6, 7, 8, 9]"
      ]
     },
     "execution_count": 39,
     "metadata": {},
     "output_type": "execute_result"
    }
   ],
   "source": [
    "l4"
   ]
  },
  {
   "cell_type": "code",
   "execution_count": 40,
   "id": "8ab9db5c-55d9-48e9-89f3-5349ca0d3b03",
   "metadata": {},
   "outputs": [],
   "source": [
    "l4.sort(reverse=True)"
   ]
  },
  {
   "cell_type": "code",
   "execution_count": 41,
   "id": "c1e0da47-5349-4646-a319-0fa608d1f8b2",
   "metadata": {},
   "outputs": [
    {
     "data": {
      "text/plain": [
       "[9, 8, 7, 6, 5, 4, 3, 2, 1, 0]"
      ]
     },
     "execution_count": 41,
     "metadata": {},
     "output_type": "execute_result"
    }
   ],
   "source": [
    "l4"
   ]
  },
  {
   "cell_type": "code",
   "execution_count": 42,
   "id": "ed1ab889-772a-443b-bf39-a6181cc2acbb",
   "metadata": {},
   "outputs": [],
   "source": [
    "l4.append(10)"
   ]
  },
  {
   "cell_type": "code",
   "execution_count": 43,
   "id": "b59cb186-bd3f-409a-b1e2-efafbe92834a",
   "metadata": {},
   "outputs": [
    {
     "data": {
      "text/plain": [
       "[9, 8, 7, 6, 5, 4, 3, 2, 1, 0, 10]"
      ]
     },
     "execution_count": 43,
     "metadata": {},
     "output_type": "execute_result"
    }
   ],
   "source": [
    "l4"
   ]
  },
  {
   "cell_type": "code",
   "execution_count": 44,
   "id": "f5a79d3c-adeb-4b61-9710-31e555cb4c01",
   "metadata": {},
   "outputs": [],
   "source": [
    "l4.insert(0,10)"
   ]
  },
  {
   "cell_type": "code",
   "execution_count": 45,
   "id": "9cc42835-182a-4ef6-8377-b0d3c8e35b2b",
   "metadata": {},
   "outputs": [
    {
     "data": {
      "text/plain": [
       "[10, 9, 8, 7, 6, 5, 4, 3, 2, 1, 0, 10]"
      ]
     },
     "execution_count": 45,
     "metadata": {},
     "output_type": "execute_result"
    }
   ],
   "source": [
    "l4"
   ]
  },
  {
   "cell_type": "code",
   "execution_count": 46,
   "id": "8bd32b91-4f9a-4fd8-85cc-6e2e7508fd39",
   "metadata": {},
   "outputs": [],
   "source": [
    "l4.remove(7)"
   ]
  },
  {
   "cell_type": "code",
   "execution_count": 47,
   "id": "272fe2ca-9548-4196-b707-3b2936c6a3a7",
   "metadata": {},
   "outputs": [
    {
     "data": {
      "text/plain": [
       "[10, 9, 8, 6, 5, 4, 3, 2, 1, 0, 10]"
      ]
     },
     "execution_count": 47,
     "metadata": {},
     "output_type": "execute_result"
    }
   ],
   "source": [
    "l4"
   ]
  },
  {
   "cell_type": "code",
   "execution_count": 49,
   "id": "5cd6486f-f207-4f61-96c2-e6346c6a86ea",
   "metadata": {},
   "outputs": [],
   "source": [
    "del l4[2]"
   ]
  },
  {
   "cell_type": "markdown",
   "id": "028a6144-2b0b-403c-8f77-56d6b4a7a4a8",
   "metadata": {},
   "source": [
    "l4"
   ]
  },
  {
   "cell_type": "code",
   "execution_count": 50,
   "id": "f237a5bf-2a0e-4164-9545-333b93244b2a",
   "metadata": {},
   "outputs": [
    {
     "data": {
      "text/plain": [
       "[10, 9, 6, 5, 4, 3, 2, 1, 0, 10]"
      ]
     },
     "execution_count": 50,
     "metadata": {},
     "output_type": "execute_result"
    }
   ],
   "source": [
    "l4"
   ]
  },
  {
   "cell_type": "code",
   "execution_count": null,
   "id": "d99f14b0-7b7a-4516-804c-792e167815ae",
   "metadata": {},
   "outputs": [],
   "source": []
  }
 ],
 "metadata": {
  "kernelspec": {
   "display_name": "Python 3 (ipykernel)",
   "language": "python",
   "name": "python3"
  },
  "language_info": {
   "codemirror_mode": {
    "name": "ipython",
    "version": 3
   },
   "file_extension": ".py",
   "mimetype": "text/x-python",
   "name": "python",
   "nbconvert_exporter": "python",
   "pygments_lexer": "ipython3",
   "version": "3.12.1"
  }
 },
 "nbformat": 4,
 "nbformat_minor": 5
}
